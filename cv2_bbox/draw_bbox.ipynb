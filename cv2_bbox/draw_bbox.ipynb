{
 "cells": [
  {
   "cell_type": "code",
   "execution_count": 34,
   "metadata": {},
   "outputs": [
    {
     "data": {
      "text/plain": [
       "True"
      ]
     },
     "execution_count": 34,
     "metadata": {},
     "output_type": "execute_result"
    }
   ],
   "source": [
    "import cv2\n",
    " \n",
    "fname = 'DSC_0176_1170.jpg'\n",
    "img = cv2.imread(fname)\n",
    "# 画矩形框\n",
    "cv2.rectangle(img, (1723,411), (1777,493), (0,255,0), 4)\n",
    "cv2.rectangle(img, (1711,294), (1827,384), (255,255,0), 4)\n",
    "cv2.rectangle(img, (1159,432), (1269,489), (0,255,255), 4)\n",
    "cv2.rectangle(img, (975,682), (1065,730), (255,0,0), 4)\n",
    "cv2.rectangle(img, (78,271), (183,318), (255,0,0), 4)\n",
    "# 0.532812 0.640278 0.053125 0.080556\n",
    "# 1723\t411\t1777\t493\n",
    "# 1711\t294\t1827\t384\n",
    "# 1159\t432\t1269\t489\n",
    "# 975\t682\t1065\t730\n",
    "# 78\t271\t183\t318\n",
    "\n",
    "\n",
    "\n",
    "# 标注文本\n",
    "font = cv2.FONT_HERSHEY_COMPLEX\n",
    "text = 'DSC_0176_1170'\n",
    "cv2.putText(img, text, (972,648), font, 2, (0,0,255), 1)\n",
    "cv2.imwrite('DSC_0176_1170_original.jpg', img)\n"
   ]
  },
  {
   "cell_type": "code",
   "execution_count": 33,
   "metadata": {},
   "outputs": [
    {
     "name": "stdout",
     "output_type": "stream",
     "text": [
      "[0.0, 1722.99936, 411.00048, 1776.99936, 493.00056] 1722.99936\n",
      "[0.0, 1710.9993599999998, 294.0003, 1827.0, 383.99994] 1710.9993599999998\n",
      "[0.0, 1159.0003199999999, 432.00000000000006, 1269.00096, 489.00024] 1159.0003199999999\n",
      "[0.0, 975.0, 682.00056, 1065.0, 730.00008] 975.0\n",
      "[0.0, 78.00096000000002, 270.99953999999997, 183.0, 318.00006] 78.00096000000002\n"
     ]
    },
    {
     "data": {
      "text/plain": [
       "True"
      ]
     },
     "execution_count": 33,
     "metadata": {},
     "output_type": "execute_result"
    }
   ],
   "source": [
    "# 0 0.532812 0.640278 0.053125 0.080556\n",
    "# 0 0.625781 0.418056 0.048438 0.063889\n",
    "# 0 0.914844 0.368519 0.064063 0.190741\n",
    "# 0 0.062500 0.269444 0.071875 0.050000\n",
    "\n",
    "fname = 'DSC_0176_1170.jpg'\n",
    "img = cv2.imread(fname)\n",
    "\n",
    "with open('DSC_0176_1170.txt', 'r') as f:\n",
    "    lines = f.readlines()\n",
    "for line in lines:\n",
    "    line = line.split()\n",
    "    line = [float(x) for x in line]\n",
    "    center_x = line[1] *1920\n",
    "    center_y = line[2] * 1080\n",
    "    width = line[3] * 1920\n",
    "    height = line[4] * 1080\n",
    "    line[1], line[2], line[3], line[4] = center_x - width / 2, center_y - height / 2, center_x + width / 2, center_y + height / 2\n",
    "    print(line, line[1])\n",
    "    cv2.rectangle(img, (int(line[1]),int(line[2])), (int(line[3]),int(line[4])), (0,255,0), 4)\n",
    "\n",
    "cv2.imwrite('DSC_0176_1170_read.jpg', img)"
   ]
  },
  {
   "cell_type": "code",
   "execution_count": 31,
   "metadata": {},
   "outputs": [
    {
     "data": {
      "text/plain": [
       "True"
      ]
     },
     "execution_count": 31,
     "metadata": {},
     "output_type": "execute_result"
    }
   ],
   "source": [
    "import cv2\n",
    " \n",
    "fname = 'DSC_0176_1170.jpg'\n",
    "img = cv2.imread(fname)\n",
    "# 画矩形框\n",
    "cv2.rectangle(img, (212,317), (290,436), (0,255,0), 4)\n",
    "# 标注文本\n",
    "font = cv2.FONT_HERSHEY_COMPLEX\n",
    "text = '001'\n",
    "cv2.putText(img, text, (212, 310), font, 2, (0,0,255), 1)\n",
    "cv2.imwrite('001_new.jpg', img)\n"
   ]
  }
 ],
 "metadata": {
  "kernelspec": {
   "display_name": "Python 3",
   "language": "python",
   "name": "python3"
  },
  "language_info": {
   "codemirror_mode": {
    "name": "ipython",
    "version": 3
   },
   "file_extension": ".py",
   "mimetype": "text/x-python",
   "name": "python",
   "nbconvert_exporter": "python",
   "pygments_lexer": "ipython3",
   "version": "3.6.3"
  }
 },
 "nbformat": 4,
 "nbformat_minor": 2
}
