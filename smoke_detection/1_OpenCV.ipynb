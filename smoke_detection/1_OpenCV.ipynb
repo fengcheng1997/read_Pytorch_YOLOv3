{
 "cells": [
  {
   "cell_type": "code",
   "execution_count": 23,
   "metadata": {},
   "outputs": [],
   "source": [
    "## cv2 打开关闭关键帧\n",
    "## waitKey的作用时等待键盘的输入,27对应的时ESC的ASCII码\n",
    "## 注意要destiryALLWindows,要不然关闭不了窗口\n",
    "\n",
    "import cv2\n",
    " \n",
    "cap = cv2.VideoCapture('/home/lsc/a409/users/hanpengcheng/DataSets/smoke_detection/edited/DSC_0146.MOV')  #返回一个capture对象\n",
    "cap.set(cv2.CAP_PROP_POS_FRAMES,50)  #设置要获取的帧号\n",
    "a,b=cap.read()  #read方法返回一个布尔值和一个视频帧。若帧读取成功，则返回True\n",
    "cv2.imshow('test', b)\n",
    "# cv2.waitKey(1)\n",
    "while(1):\n",
    "    if(cv2.waitKey(1))==27:\n",
    "        cv2.destroyAllWindows() # 27时ESC的ASCII码\n",
    "        break "
   ]
  },
  {
   "cell_type": "code",
   "execution_count": 26,
   "metadata": {},
   "outputs": [
    {
     "data": {
      "text/plain": [
       "True"
      ]
     },
     "execution_count": 26,
     "metadata": {},
     "output_type": "execute_result"
    }
   ],
   "source": [
    "cv2.imwrite('cap_test.jpg',b)"
   ]
  },
  {
   "cell_type": "code",
   "execution_count": null,
   "metadata": {},
   "outputs": [],
   "source": [
    "# 以上是test"
   ]
  }
 ],
 "metadata": {
  "kernelspec": {
   "display_name": "Python 3",
   "language": "python",
   "name": "python3"
  },
  "language_info": {
   "codemirror_mode": {
    "name": "ipython",
    "version": 3
   },
   "file_extension": ".py",
   "mimetype": "text/x-python",
   "name": "python",
   "nbconvert_exporter": "python",
   "pygments_lexer": "ipython3",
   "version": "3.6.3"
  }
 },
 "nbformat": 4,
 "nbformat_minor": 2
}
