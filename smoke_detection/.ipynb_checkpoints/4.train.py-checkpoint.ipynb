{
 "cells": [
  {
   "cell_type": "code",
   "execution_count": 7,
   "metadata": {},
   "outputs": [],
   "source": [
    "def load_classes(path):\n",
    "    \"\"\"\n",
    "    Loads class labels at 'path'\n",
    "    \"\"\"\n",
    "    fp = open(path, \"r\")\n",
    "    names = fp.read().split(\"\\n\")[:-1]\n",
    "    return names\n",
    "\n",
    "classes = load_classes(\"/home/lsc/a409/users/lisuicheng/Machine_learning/PyTorch-YOLOv3/data/coco.names\")\n",
    "# classes"
   ]
  },
  {
   "cell_type": "code",
   "execution_count": 11,
   "metadata": {},
   "outputs": [
    {
     "data": {
      "text/plain": [
       "{'gpus': '0,1,2,3',\n",
       " 'num_workers': '10',\n",
       " 'classes': '80',\n",
       " 'train': 'data/coco/trainvalno5k.txt',\n",
       " 'valid': 'data/coco/5k.txt',\n",
       " 'names': 'data/coco.names',\n",
       " 'backup': 'backup/',\n",
       " 'eval': 'coco'}"
      ]
     },
     "execution_count": 11,
     "metadata": {},
     "output_type": "execute_result"
    }
   ],
   "source": [
    "def parse_data_config(path):\n",
    "    \"\"\"Parses the data configuration file\"\"\"\n",
    "    options = dict()\n",
    "    options['gpus'] = '0,1,2,3'\n",
    "    options['num_workers'] = '10'\n",
    "    with open(path, 'r') as fp:\n",
    "        lines = fp.readlines()\n",
    "#         print(lines)\n",
    "    for line in lines:\n",
    "#         print(line)\n",
    "        line = line.strip()\n",
    "#         print(line)\n",
    "        if line == '' or line.startswith('#'):\n",
    "            continue\n",
    "        key, value = line.split('=')\n",
    "        options[key.strip()] = value.strip()\n",
    "    return options\n",
    "\n",
    "data_config = parse_data_config('/home/lsc/a409/users/lisuicheng/Machine_learning/PyTorch-YOLOv3/config/coco.data')\n",
    "data_config"
   ]
  },
  {
   "cell_type": "code",
   "execution_count": 15,
   "metadata": {},
   "outputs": [
    {
     "data": {
      "text/plain": [
       "{'type': 'net',\n",
       " 'batch': '16',\n",
       " 'subdivisions': '1',\n",
       " 'width': '416',\n",
       " 'height': '416',\n",
       " 'channels': '3',\n",
       " 'momentum': '0.9',\n",
       " 'decay': '0.0005',\n",
       " 'angle': '0',\n",
       " 'saturation': '1.5',\n",
       " 'exposure': '1.5',\n",
       " 'hue': '.1',\n",
       " 'learning_rate': '0.001',\n",
       " 'burn_in': '1000',\n",
       " 'max_batches': '500200',\n",
       " 'policy': 'steps',\n",
       " 'steps': '400000,450000',\n",
       " 'scales': '.1,.1'}"
      ]
     },
     "execution_count": 15,
     "metadata": {},
     "output_type": "execute_result"
    }
   ],
   "source": [
    "def parse_model_config(path):\n",
    "    \"\"\"Parses the yolo-v3 layer configuration file and returns module definitions\"\"\"\n",
    "    file = open(path, 'r')\n",
    "    lines = file.read().split('\\n')\n",
    "    lines = [x for x in lines if x and not x.startswith('#')]\n",
    "    lines = [x.rstrip().lstrip() for x in lines] # get rid of fringe whitespaces\n",
    "    module_defs = []\n",
    "    for line in lines:\n",
    "#         print(line)\n",
    "        if line.startswith('['): # This marks the start of a new block\n",
    "            module_defs.append({})\n",
    "            module_defs[-1]['type'] = line[1:-1].rstrip() #在最后一个括号中插入'type'(字典),并且去掉末尾的空格\n",
    "            if module_defs[-1]['type'] == 'convolutional':\n",
    "                module_defs[-1]['batch_normalize'] = 0\n",
    "        else:\n",
    "            key, value = line.split(\"=\")\n",
    "            value = value.strip()\n",
    "            module_defs[-1][key.rstrip()] = value.strip()\n",
    "\n",
    "    return module_defs\n",
    "\n",
    "hyperparams = parse_model_config('/home/lsc/a409/users/lisuicheng/Machine_learning/PyTorch-YOLOv3/config/yolov3.cfg')[0]\n",
    "hyperparams"
   ]
  },
  {
   "cell_type": "code",
   "execution_count": null,
   "metadata": {},
   "outputs": [],
   "source": []
  }
 ],
 "metadata": {
  "kernelspec": {
   "display_name": "Python 3",
   "language": "python",
   "name": "python3"
  },
  "language_info": {
   "codemirror_mode": {
    "name": "ipython",
    "version": 3
   },
   "file_extension": ".py",
   "mimetype": "text/x-python",
   "name": "python",
   "nbconvert_exporter": "python",
   "pygments_lexer": "ipython3",
   "version": "3.6.3"
  }
 },
 "nbformat": 4,
 "nbformat_minor": 2
}
