{
 "cells": [
  {
   "cell_type": "code",
   "execution_count": 3,
   "metadata": {},
   "outputs": [],
   "source": [
    "import pandas as pd\n",
    "\n",
    "csv_data = pd.read_csv('/home/lsc/a409/users/hanpengcheng/DataSets/smoke_detection/own_dataset/object_detect/DSC_0146_label.csv')"
   ]
  },
  {
   "cell_type": "code",
   "execution_count": 4,
   "metadata": {},
   "outputs": [
    {
     "name": "stdout",
     "output_type": "stream",
     "text": [
      "  timestamp_hms   timestamp_hmsf  frame_idx  fps  frame_height  frame_width  \\\n",
      "0      00:00:09  00:00:09.600000        240   25          1080         1920   \n",
      "1      00:00:21  00:00:21.600000        540   25          1080         1920   \n",
      "2      00:00:30  00:00:30.000000        750   25          1080         1920   \n",
      "3      00:00:42  00:00:42.000000       1050   25          1080         1920   \n",
      "4      00:01:03  00:01:03.600000       1590   25          1080         1920   \n",
      "5      00:01:18  00:01:18.000000       1950   25          1080         1920   \n",
      "\n",
      "   scale_height  scale_width    x1   y1    x2   y2  x1_show  y1_show  x2_show  \\\n",
      "0           720         1280  1278  615  1363  645      852      410      909   \n",
      "1           720         1280  1252  619  1365  643      835      413      910   \n",
      "2           720         1280  1306  613  1366  643      871      409      911   \n",
      "3           720         1280  1312  609  1390  639      875      406      927   \n",
      "4           720         1280  1338  600  1396  643      892      400      931   \n",
      "5           720         1280  1321  606  1392  642      881      404      928   \n",
      "\n",
      "   y2_show  center_x  center_y  \n",
      "0      430      1320       630  \n",
      "1      429      1308       631  \n",
      "2      429      1336       628  \n",
      "3      426      1351       624  \n",
      "4      429      1367       621  \n",
      "5      428      1356       624  \n"
     ]
    }
   ],
   "source": [
    "print(csv_data)"
   ]
  },
  {
   "cell_type": "code",
   "execution_count": 5,
   "metadata": {},
   "outputs": [
    {
     "name": "stdout",
     "output_type": "stream",
     "text": [
      "timestamp_hms\n",
      "timestamp_hmsf\n",
      "frame_idx\n",
      "fps\n",
      "frame_height\n",
      "frame_width\n",
      "scale_height\n",
      "scale_width\n",
      "x1\n",
      "y1\n",
      "x2\n",
      "y2\n",
      "x1_show\n",
      "y1_show\n",
      "x2_show\n",
      "y2_show\n",
      "center_x\n",
      "center_y\n"
     ]
    }
   ],
   "source": [
    "for line in csv_data:\n",
    "    print (line)"
   ]
  },
  {
   "cell_type": "code",
   "execution_count": 6,
   "metadata": {},
   "outputs": [
    {
     "data": {
      "text/plain": [
       "540"
      ]
     },
     "execution_count": 6,
     "metadata": {},
     "output_type": "execute_result"
    }
   ],
   "source": [
    "csv_data.frame_idx[1]"
   ]
  },
  {
   "cell_type": "code",
   "execution_count": 7,
   "metadata": {},
   "outputs": [
    {
     "data": {
      "text/plain": [
       "'DSC_0146'"
      ]
     },
     "execution_count": 7,
     "metadata": {},
     "output_type": "execute_result"
    }
   ],
   "source": [
    "# 去掉.MOV的后缀\n",
    "mov_name = 'DSC_0146.MOV'\n",
    "index = mov_name.rfind('.')\n",
    "name = mov_name[:index] \n",
    "name"
   ]
  },
  {
   "cell_type": "code",
   "execution_count": 10,
   "metadata": {},
   "outputs": [],
   "source": [
    "# 存储图片\n",
    "import cv2\n",
    "mov_name = 'DSC_0146.MOV'\n",
    "\n",
    "def read_and_restore_cap(mov_name, frame_idx):\n",
    "    cap = cv2.VideoCapture('/home/lsc/a409/users/hanpengcheng/DataSets/smoke_detection/edited/%s' % mov_name)  #返回一个capture对象\n",
    "    cap.set(cv2.CAP_PROP_POS_FRAMES,frame_idx)  #设置要获取的帧号\n",
    "    a,b=cap.read()  #read方法返回一个布尔值和一个视频帧。若帧读取成功，则返回True\n",
    "    # 显示图片\n",
    "#     cv2.imshow('test', b)\n",
    "#     cv2.waitKey(1000)\n",
    "#     cv2.destroyAllWindows()\n",
    "\n",
    "    # 按ESC退出图片\n",
    "#     cv2.imshow('test', b) \n",
    "#     while(1):\n",
    "#         if(cv2.waitKey(1))==27:\n",
    "#             cv2.destroyAllWindows() # 27时ESC的ASCII码\n",
    "#             break \n",
    "    # 保存图片\n",
    "    index = mov_name.rfind('.')\n",
    "    name = mov_name[:index] \n",
    "    dir = '/home/lsc/a409/users/lisuicheng/Machine_learning/PyTorch-YOLOv3/data/smoke_detection/images/train/'\n",
    "    print('%s%s_%d.jpg' % (dir, name, frame_idx))\n",
    "    cv2.imwrite('%s%s_%d.jpg' % (dir, name, frame_idx),b)"
   ]
  },
  {
   "cell_type": "code",
   "execution_count": 11,
   "metadata": {},
   "outputs": [
    {
     "name": "stdout",
     "output_type": "stream",
     "text": [
      "/home/lsc/a409/users/lisuicheng/Machine_learning/PyTorch-YOLOv3/data/smoke_detection/images/train/DSC_0146_240.jpg\n",
      "/home/lsc/a409/users/lisuicheng/Machine_learning/PyTorch-YOLOv3/data/smoke_detection/images/train/DSC_0146_540.jpg\n",
      "/home/lsc/a409/users/lisuicheng/Machine_learning/PyTorch-YOLOv3/data/smoke_detection/images/train/DSC_0146_750.jpg\n",
      "/home/lsc/a409/users/lisuicheng/Machine_learning/PyTorch-YOLOv3/data/smoke_detection/images/train/DSC_0146_1050.jpg\n",
      "/home/lsc/a409/users/lisuicheng/Machine_learning/PyTorch-YOLOv3/data/smoke_detection/images/train/DSC_0146_1590.jpg\n",
      "/home/lsc/a409/users/lisuicheng/Machine_learning/PyTorch-YOLOv3/data/smoke_detection/images/train/DSC_0146_1950.jpg\n"
     ]
    }
   ],
   "source": [
    "for i in csv_data.frame_idx:\n",
    "    read_and_restore_cap(mov_name, i)"
   ]
  },
  {
   "cell_type": "code",
   "execution_count": null,
   "metadata": {},
   "outputs": [],
   "source": [
    "# 整合,将视频中的所有图片拿出来\n",
    "\n"
   ]
  }
 ],
 "metadata": {
  "kernelspec": {
   "display_name": "Python 3",
   "language": "python",
   "name": "python3"
  },
  "language_info": {
   "codemirror_mode": {
    "name": "ipython",
    "version": 3
   },
   "file_extension": ".py",
   "mimetype": "text/x-python",
   "name": "python",
   "nbconvert_exporter": "python",
   "pygments_lexer": "ipython3",
   "version": "3.6.3"
  }
 },
 "nbformat": 4,
 "nbformat_minor": 2
}
