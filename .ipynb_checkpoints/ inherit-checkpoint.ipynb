{
 "cells": [
  {
   "cell_type": "code",
   "execution_count": 2,
   "metadata": {},
   "outputs": [],
   "source": [
    "class A():\n",
    "    def go(self):\n",
    "        print (\"go A go!\")\n",
    "    def stop(self):\n",
    "        print (\"stop A stop!\")\n",
    "    def pause(self):\n",
    "        raise Exception(\"Not Implemented\")\n",
    "class B(A):\n",
    "    def go(self):\n",
    "        super(B, self).go()\n",
    "        print (\"go B go!\")\n",
    "class C(A):\n",
    "    def go(self):\n",
    "        super(C, self).go()\n",
    "        print (\"go C go!\")\n",
    "    def stop(self):\n",
    "        super(C, self).stop()\n",
    "        print (\"stop C stop!\")\n",
    "class D(B,C):\n",
    "    def go(self):\n",
    "        super(D, self).go()\n",
    "        print (\"go D go!\")\n",
    "    def stop(self):\n",
    "        super(D, self).stop()\n",
    "        print (\"stop D stop!\")\n",
    "    def pause(self):\n",
    "        print (\"wait D wait!\")\n",
    "class E(B,C):\n",
    "    pass\n",
    "a = A()\n",
    "b = B()\n",
    "c = C()\n",
    "d = D()\n",
    "e = E()"
   ]
  },
  {
   "cell_type": "code",
   "execution_count": 3,
   "metadata": {},
   "outputs": [
    {
     "name": "stdout",
     "output_type": "stream",
     "text": [
      "go A go!\n",
      "--------\n",
      "go A go!\n",
      "go B go!\n",
      "--------\n",
      "go A go!\n",
      "go C go!\n",
      "--------\n",
      "go A go!\n",
      "go C go!\n",
      "go B go!\n",
      "go D go!\n",
      "--------\n",
      "go A go!\n",
      "go C go!\n",
      "go B go!\n",
      "--------\n",
      "stop A stop!\n",
      "--------\n",
      "stop A stop!\n",
      "--------\n",
      "stop A stop!\n",
      "stop C stop!\n",
      "--------\n",
      "stop A stop!\n",
      "stop C stop!\n",
      "stop D stop!\n",
      "--------\n",
      "stop A stop!\n",
      "stop C stop!\n",
      "[<class '__main__.D'>, <class '__main__.B'>, <class '__main__.C'>, <class '__main__.A'>, <class 'object'>]\n"
     ]
    },
    {
     "ename": "Exception",
     "evalue": "Not Implemented",
     "output_type": "error",
     "traceback": [
      "\u001b[0;31m---------------------------------------------------------------------------\u001b[0m",
      "\u001b[0;31mException\u001b[0m                                 Traceback (most recent call last)",
      "\u001b[0;32m<ipython-input-3-46eef8df660d>\u001b[0m in \u001b[0;36m<module>\u001b[0;34m\u001b[0m\n\u001b[1;32m     19\u001b[0m \u001b[0me\u001b[0m\u001b[0;34m.\u001b[0m\u001b[0mstop\u001b[0m\u001b[0;34m(\u001b[0m\u001b[0;34m)\u001b[0m\u001b[0;34m\u001b[0m\u001b[0m\n\u001b[1;32m     20\u001b[0m \u001b[0mprint\u001b[0m\u001b[0;34m(\u001b[0m\u001b[0mD\u001b[0m\u001b[0;34m.\u001b[0m\u001b[0mmro\u001b[0m\u001b[0;34m(\u001b[0m\u001b[0;34m)\u001b[0m\u001b[0;34m)\u001b[0m\u001b[0;34m\u001b[0m\u001b[0m\n\u001b[0;32m---> 21\u001b[0;31m \u001b[0ma\u001b[0m\u001b[0;34m.\u001b[0m\u001b[0mpause\u001b[0m\u001b[0;34m(\u001b[0m\u001b[0;34m)\u001b[0m\u001b[0;34m\u001b[0m\u001b[0m\n\u001b[0m\u001b[1;32m     22\u001b[0m \u001b[0mb\u001b[0m\u001b[0;34m.\u001b[0m\u001b[0mpause\u001b[0m\u001b[0;34m(\u001b[0m\u001b[0;34m)\u001b[0m\u001b[0;34m\u001b[0m\u001b[0m\n\u001b[1;32m     23\u001b[0m \u001b[0mc\u001b[0m\u001b[0;34m.\u001b[0m\u001b[0mpause\u001b[0m\u001b[0;34m(\u001b[0m\u001b[0;34m)\u001b[0m\u001b[0;34m\u001b[0m\u001b[0m\n",
      "\u001b[0;32m<ipython-input-2-02990fdfa8c6>\u001b[0m in \u001b[0;36mpause\u001b[0;34m(self)\u001b[0m\n\u001b[1;32m      5\u001b[0m         \u001b[0mprint\u001b[0m \u001b[0;34m(\u001b[0m\u001b[0;34m\"stop A stop!\"\u001b[0m\u001b[0;34m)\u001b[0m\u001b[0;34m\u001b[0m\u001b[0m\n\u001b[1;32m      6\u001b[0m     \u001b[0;32mdef\u001b[0m \u001b[0mpause\u001b[0m\u001b[0;34m(\u001b[0m\u001b[0mself\u001b[0m\u001b[0;34m)\u001b[0m\u001b[0;34m:\u001b[0m\u001b[0;34m\u001b[0m\u001b[0m\n\u001b[0;32m----> 7\u001b[0;31m         \u001b[0;32mraise\u001b[0m \u001b[0mException\u001b[0m\u001b[0;34m(\u001b[0m\u001b[0;34m\"Not Implemented\"\u001b[0m\u001b[0;34m)\u001b[0m\u001b[0;34m\u001b[0m\u001b[0m\n\u001b[0m\u001b[1;32m      8\u001b[0m \u001b[0;32mclass\u001b[0m \u001b[0mB\u001b[0m\u001b[0;34m(\u001b[0m\u001b[0mA\u001b[0m\u001b[0;34m)\u001b[0m\u001b[0;34m:\u001b[0m\u001b[0;34m\u001b[0m\u001b[0m\n\u001b[1;32m      9\u001b[0m     \u001b[0;32mdef\u001b[0m \u001b[0mgo\u001b[0m\u001b[0;34m(\u001b[0m\u001b[0mself\u001b[0m\u001b[0;34m)\u001b[0m\u001b[0;34m:\u001b[0m\u001b[0;34m\u001b[0m\u001b[0m\n",
      "\u001b[0;31mException\u001b[0m: Not Implemented"
     ]
    }
   ],
   "source": [
    "a.go()\n",
    "print('--------')\n",
    "b.go()\n",
    "print('--------')\n",
    "c.go()\n",
    "print('--------')\n",
    "d.go()\n",
    "print('--------')\n",
    "e.go()\n",
    "print('--------')\n",
    "a.stop()\n",
    "print('--------')\n",
    "b.stop()\n",
    "print('--------')\n",
    "c.stop()\n",
    "print('--------')\n",
    "d.stop()\n",
    "print('--------')\n",
    "e.stop()\n",
    "print(D.mro())\n",
    "a.pause()\n",
    "b.pause()\n",
    "c.pause()\n",
    "d.pause()\n",
    "e.pause()"
   ]
  },
  {
   "cell_type": "code",
   "execution_count": 4,
   "metadata": {},
   "outputs": [],
   "source": [
    "# https://www.cnblogs.com/python-nameless/p/6229506.html\n",
    "# 上述网站第3条讲的很清楚\n",
    "# 弄清楚super的继承关系\n",
    "# super不是父类，而是继承顺序的下一个类，在多重继承时会涉及继承顺序，super（）相当于返回继承顺序的下一个类，而不是父类，类似于这样的功能"
   ]
  },
  {
   "cell_type": "code",
   "execution_count": 44,
   "metadata": {},
   "outputs": [
    {
     "name": "stdout",
     "output_type": "stream",
     "text": [
      "enter A \n",
      "enter B \n",
      "Base create\n",
      "leave B\n",
      "leave A\n"
     ]
    }
   ],
   "source": [
    "class Base(object):\n",
    "    def __init__(self):\n",
    "        print('Base create')\n",
    " \n",
    "class childA(Base):\n",
    "    def __init__(self):\n",
    "        print('enter A ')\n",
    "        # Base.__init__(self)\n",
    "        super(childA, self).__init__()\n",
    "        print('leave A')\n",
    " \n",
    " \n",
    "class childB(Base):\n",
    "    def __init__(self):\n",
    "        print('enter B ')\n",
    "        # Base.__init__(self)\n",
    "        super(childB, self).__init__()\n",
    "        print('leave B')\n",
    " \n",
    "class childC(childA, childB):\n",
    "    def __init__(self):\n",
    "        super(childC, self).__init__()\n",
    " \n",
    "c = childC()\n"
   ]
  },
  {
   "cell_type": "code",
   "execution_count": 45,
   "metadata": {},
   "outputs": [
    {
     "name": "stdout",
     "output_type": "stream",
     "text": [
      "enter A \n",
      "Base_A create\n",
      "leave A\n",
      "######################\n",
      "Base_B create\n"
     ]
    }
   ],
   "source": [
    "class Base_A(object):\n",
    "    def __init__(self):\n",
    "        print('Base_A create')\n",
    "\n",
    "class Base_B(object):\n",
    "    def __init__(self):\n",
    "        print('Base_B create')\n",
    "        \n",
    "class childA(Base_A):\n",
    "    def __init__(self):\n",
    "        print('enter A ')\n",
    "        # Base.__init__(self)\n",
    "        super(childA, self).__init__()\n",
    "        print('leave A')\n",
    " \n",
    " \n",
    "class childB(Base_B):\n",
    "    def __init__(self):\n",
    "        print('enter B ')\n",
    "        # Base.__init__(self)\n",
    "        super(childB, self).__init__()\n",
    "        print('leave B')\n",
    "\n",
    "class childC(childA, childB):\n",
    "    def __init__(self):\n",
    "        super(childC, self).__init__()\n",
    " \n",
    "c = childC()\n",
    "# 貌似super的用意，就是让相同的基类只初始化一次。在你这个例子里，相同的基类是指object，如果初始object的方式不同，\n",
    "# 就调整继承顺序，如果调整顺序也不能满足要求，那就考虑不用继承，改用包含方式...\n",
    "# 如果父类的基类不相同，就不要考虑用多继承的方式，因为后面的的父类时不能被初始化的\n",
    "\n",
    "print('######################')\n",
    "\n",
    "class childD(childA, childB):\n",
    "    def __init__(self):\n",
    "        super(childB, self).__init__() # super(childB, self).__init__()就是childB中的同样的函数，它会找childB的父类，也就是base类中的__init__实现\n",
    " \n",
    "c = childD()    "
   ]
  },
  {
   "cell_type": "code",
   "execution_count": 42,
   "metadata": {},
   "outputs": [
    {
     "name": "stdout",
     "output_type": "stream",
     "text": [
      "[<class '__main__.C'>, <class '__main__.A'>, <class '__main__.B'>, <class 'object'>]\n",
      "b\n",
      "a\n",
      "c\n"
     ]
    }
   ],
   "source": [
    "class A(object):\n",
    "    def __init__(self):\n",
    "        super(A, self).__init__()\n",
    "        print('a')\n",
    " \n",
    " \n",
    "class B(object):\n",
    "    def __init__(self):\n",
    "        super(B, self).__init__()\n",
    "        print('b')\n",
    " \n",
    " \n",
    "class C(A, B):\n",
    "    def __init__(self):\n",
    "        super(C, self).__init__()\n",
    "        print('c')\n",
    " \n",
    "print(C.mro())\n",
    "c = C()\n"
   ]
  },
  {
   "cell_type": "code",
   "execution_count": 27,
   "metadata": {},
   "outputs": [
    {
     "name": "stdout",
     "output_type": "stream",
     "text": [
      "enter A \n",
      "Base create\n",
      "leave A\n",
      "Base create\n"
     ]
    }
   ],
   "source": [
    "class Base(object):\n",
    "    def __init__(self):\n",
    "        print('Base create')\n",
    " \n",
    "class childA(Base):\n",
    "    def __init__(self):\n",
    "        print('enter A ')\n",
    "        Base.__init__(self)\n",
    "        print ('leave A')\n",
    " \n",
    " \n",
    "class childB(childA, Base):\n",
    "    def __init__(self):\n",
    "        childA.__init__(self)\n",
    "        Base.__init__(self)\n",
    " \n",
    "b = childB()\n",
    "\n",
    "#Base的__init__()方法被执行了两次\n",
    "\n",
    "#而super可以避免应用两次"
   ]
  },
  {
   "cell_type": "code",
   "execution_count": null,
   "metadata": {},
   "outputs": [],
   "source": []
  }
 ],
 "metadata": {
  "kernelspec": {
   "display_name": "Python 3",
   "language": "python",
   "name": "python3"
  },
  "language_info": {
   "codemirror_mode": {
    "name": "ipython",
    "version": 3
   },
   "file_extension": ".py",
   "mimetype": "text/x-python",
   "name": "python",
   "nbconvert_exporter": "python",
   "pygments_lexer": "ipython3",
   "version": "3.6.3"
  }
 },
 "nbformat": 4,
 "nbformat_minor": 2
}
